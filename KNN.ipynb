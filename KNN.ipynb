{
 "cells": [
  {
   "cell_type": "markdown",
   "metadata": {},
   "source": [
    "## Lựa chọn k cho thuật toán K-NEAREST NEIGHBOR (KNN)\n",
    "\n",
    "Lựa chọn k là một bước then chốt trong việc thực hiện thuận toán KNN vì nó là tham số ảnh hưởng lớn đến mức độ chính xác của thuận toán khi, chẳng hạn, phân loại. Trong bài này người viết trình bày cách tiếp cận trong thực tế cho việc lựa chọn k tối ưu. \n",
    "\n",
    "Dữ liệu sử dụng là breast cancer data và các bạn có thể tìm hiểu [ở đây](http://archive.ics.uci.edu/ml/datasets/breast+cancer+wisconsin+%28diagnostic%29). Đây là bộ dữ liệu điển hình được sử dụng trong nhiều nghiên cứu cũng như bài giảng về Machine Learning. \n",
    "\n",
    "Về các chọn k phù hợp cho thuật toán KNN các bạn có thể tham khảo thêm [ở đây](https://www.researchgate.net/post/How_can_we_find_the_optimum_K_in_K-Nearest_Neighbor) và [ở đây](http://dataaspirant.com/2016/12/23/k-nearest-neighbor-classifier-intro/). \n",
    "\n",
    "Cách tiếp cận  cho việc tìm k với bộ dữ liệu breast cancer được thực hiện như sau: chọn một loạt các khoảng k từ 1 đến 11 (số features, hay số chiều của dữ liệu) và ứng với mỗi giá trị của k chúng ta huấn luyện mô hình KNN trên 75% bộ số liệu nguyên gốc còn 20% số liệu còn lại để kiểm định mô hình có được. Giá trị k nào mà dẫn đến sai số huấn luyện thấp nhất (hay mức độ chính xác cao nhất) sẽ được lựa chọn làm k tối ưu cho thuật toán KNN. \n",
    "\n",
    "Và giá trị đó là k = 6. \n"
   ]
  },
  {
   "cell_type": "code",
   "execution_count": null,
   "metadata": {
    "collapsed": true
   },
   "outputs": [],
   "source": [
    "# Load gói sklearn: \n",
    "import sklearn\n",
    "\n",
    "# Load bộ dữ liệu breast: \n",
    "from sklearn.datasets import load_breast_cancer"
   ]
  },
  {
   "cell_type": "code",
   "execution_count": 5,
   "metadata": {
    "collapsed": true
   },
   "outputs": [],
   "source": [
    "cancer = load_breast_cancer()"
   ]
  },
  {
   "cell_type": "code",
   "execution_count": 6,
   "metadata": {
    "collapsed": true
   },
   "outputs": [],
   "source": [
    "# Load hàm phân chia dữ liệu: \n",
    "from sklearn.model_selection import train_test_split"
   ]
  },
  {
   "cell_type": "code",
   "execution_count": 58,
   "metadata": {
    "collapsed": true
   },
   "outputs": [],
   "source": [
    "# Thực hiện phân chia dữ liệu theo tỉ lệ 75% và 25% tương ứng với training và testing data:\n",
    "X_train, X_test, y_train, y_test = train_test_split(cancer.data, \n",
    "                                                    cancer.target, \n",
    "                                                    stratify = cancer.target, \n",
    "                                                    test_size = 0.25, \n",
    "                                                    random_state = 66)"
   ]
  },
  {
   "cell_type": "code",
   "execution_count": 59,
   "metadata": {
    "collapsed": true
   },
   "outputs": [],
   "source": [
    "# Tạo các array trống: \n",
    "training_accuracy = [] \n",
    "test_accuracy = [] \n",
    "# Chọn một khoảng cho số lượng hàng xóm: \n",
    "k = range(1, 11)"
   ]
  },
  {
   "cell_type": "code",
   "execution_count": 60,
   "metadata": {
    "collapsed": true
   },
   "outputs": [],
   "source": [
    "# Load hàm cần dùng cho thuật toán KNN: \n",
    "from sklearn.neighbors import KNeighborsClassifier \n",
    "for n_neighbors in k:    \n",
    "    # Chạy mô hình KNN:    \n",
    "    clf = KNeighborsClassifier(n_neighbors=n_neighbors)    \n",
    "    clf.fit(X_train, y_train)    \n",
    "    # Lưu lại giá trị của training error: \n",
    "    training_accuracy.append(clf.score(X_train, y_train))    \n",
    "    # Lưu lại giá trị của testing error:  \n",
    "    test_accuracy.append(clf.score(X_test, y_test))\n"
   ]
  },
  {
   "cell_type": "code",
   "execution_count": 57,
   "metadata": {},
   "outputs": [
    {
     "data": {
      "text/plain": [
       "<matplotlib.legend.Legend at 0x14370042a20>"
      ]
     },
     "execution_count": 57,
     "metadata": {},
     "output_type": "execute_result"
    },
    {
     "data": {
      "image/png": "[encoded data removed]",
      "text/plain": [
       "<matplotlib.figure.Figure at 0x1436ff730b8>"
      ]
     },
     "metadata": {},
     "output_type": "display_data"
    }
   ],
   "source": [
    "# Hình ảnh hóa training và testing error theo số lượng hàng xóm được chọn: \n",
    "%matplotlib inline \n",
    "import matplotlib.pyplot as plt\n",
    "plt.plot(neighbors_settings, training_accuracy, label = \"Accuracy ứng với bộ dữ liệu training\") \n",
    "plt.plot(neighbors_settings, test_accuracy, label = \"Accuracy ứng với bộ dữ liệu testing\") \n",
    "plt.legend()"
   ]
  }
 ],
 "metadata": {
  "kernelspec": {
   "display_name": "Python 3",
   "language": "python",
   "name": "python3"
  },
  "language_info": {
   "codemirror_mode": {
    "name": "ipython",
    "version": 3
   },
   "file_extension": ".py",
   "mimetype": "text/x-python",
   "name": "python",
   "nbconvert_exporter": "python",
   "pygments_lexer": "ipython3",
   "version": "3.6.3"
  }
 },
 "nbformat": 4,
 "nbformat_minor": 2
}
